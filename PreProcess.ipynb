{
 "cells": [
  {
   "cell_type": "code",
   "execution_count": 1,
   "metadata": {},
   "outputs": [],
   "source": [
    "from pyspark.sql import SparkSession\n",
    "from pyspark.sql.types import StructType, StructField, IntegerType, FloatType, StringType\n",
    "\n",
    "import warnings\n",
    "warnings.filterwarnings('ignore')"
   ]
  },
  {
   "cell_type": "code",
   "execution_count": 2,
   "metadata": {},
   "outputs": [
    {
     "name": "stderr",
     "output_type": "stream",
     "text": [
      "/usr/local/lib/python3.6/site-packages/pyspark/context.py:238: FutureWarning: Python 3.6 support is deprecated in Spark 3.2.\n",
      "  FutureWarning\n"
     ]
    }
   ],
   "source": [
    "#.master(\"spark://10.84.128.47:7077\") \\\n",
    "\n",
    "spark = SparkSession\\\n",
    "    .builder\\\n",
    "    .appName('BD_G10')\\\n",
    "    .config(\"hive.metastore.uris\", \"thrift://10.0.0.0:9083\")\\\n",
    "    .enableHiveSupport()\\\n",
    "    .getOrCreate()"
   ]
  },
  {
   "cell_type": "code",
   "execution_count": 4,
   "metadata": {},
   "outputs": [
    {
     "data": {
      "text/plain": [
       "DataFrame[]"
      ]
     },
     "execution_count": 4,
     "metadata": {},
     "output_type": "execute_result"
    }
   ],
   "source": [
    "spark.sql(\"CREATE TABLE IF NOT EXISTS g10.raw_data_textfile (instant float,id_activity int,heart_rate int,imu_hand_1 float,imu_hand_2 float,imu_hand_3 float,imu_hand_4 float,imu_hand_5 float,imu_hand_6 float,imu_hand_7 float,imu_hand_8 float,imu_hand_9 float,imu_hand_10 float,imu_hand_11 float,imu_hand_12 float,imu_hand_13 float,imu_hand_14 float,imu_hand_15 float,imu_hand_16 float,imu_hand_17 float,imu_chest_1 float,imu_chest_2 float,imu_chest_3 float,imu_chest_4 float,imu_chest_5 float,imu_chest_6 float,imu_chest_7 float,imu_chest_8 float,imu_chest_9 float,imu_chest_10 float,imu_chest_11 float,imu_chest_12 float,imu_chest_13 float,imu_chest_14 float,imu_chest_15 float,imu_chest_16 float,imu_chest_17 float,imu_ankle_1 float,imu_ankle_2 float,imu_ankle_3 float,imu_ankle_4 float,imu_ankle_5 float,imu_ankle_6 float,imu_ankle_7 float,imu_ankle_8 float,imu_ankle_9 float,imu_ankle_10 float,imu_ankle_11 float,imu_ankle_12 float,imu_ankle_13 float,imu_ankle_14 float,imu_ankle_15 float,imu_ankle_16 float,imu_ankle_17 float) ROW FORMAT DELIMITED FIELDS TERMINATED BY ' ' STORED AS TEXTFILE\")"
   ]
  },
  {
   "cell_type": "code",
   "execution_count": 5,
   "metadata": {},
   "outputs": [
    {
     "data": {
      "text/plain": [
       "DataFrame[]"
      ]
     },
     "execution_count": 5,
     "metadata": {},
     "output_type": "execute_result"
    }
   ],
   "source": [
    "spark.sql(\"LOAD DATA INPATH 'hdfs://10.84.128.47:9000/aulas/BD_G10/subject101.dat' OVERWRITE INTO TABLE g10.raw_data_textfile\")"
   ]
  },
  {
   "cell_type": "code",
   "execution_count": 6,
   "metadata": {},
   "outputs": [
    {
     "name": "stdout",
     "output_type": "stream",
     "text": [
      "+-------+-----------+----------+----------+----------+----------+----------+----------+----------+----------+----------+----------+-----------+-----------+-----------+-----------+-----------+-----------+-----------+-----------+-----------+-----------+-----------+-----------+-----------+-----------+-----------+-----------+-----------+------------+------------+------------+------------+------------+------------+------------+------------+-----------+-----------+-----------+-----------+-----------+-----------+-----------+-----------+-----------+------------+------------+------------+------------+------------+------------+------------+------------+\n",
      "|instant|id_activity|heart_rate|imu_hand_1|imu_hand_2|imu_hand_3|imu_hand_4|imu_hand_5|imu_hand_6|imu_hand_7|imu_hand_8|imu_hand_9|imu_hand_10|imu_hand_11|imu_hand_12|imu_hand_13|imu_hand_14|imu_hand_15|imu_hand_16|imu_hand_17|imu_chest_1|imu_chest_2|imu_chest_3|imu_chest_4|imu_chest_5|imu_chest_6|imu_chest_7|imu_chest_8|imu_chest_9|imu_chest_10|imu_chest_11|imu_chest_12|imu_chest_13|imu_chest_14|imu_chest_15|imu_chest_16|imu_chest_17|imu_ankle_1|imu_ankle_2|imu_ankle_3|imu_ankle_4|imu_ankle_5|imu_ankle_6|imu_ankle_7|imu_ankle_8|imu_ankle_9|imu_ankle_10|imu_ankle_11|imu_ankle_12|imu_ankle_13|imu_ankle_14|imu_ankle_15|imu_ankle_16|imu_ankle_17|\n",
      "+-------+-----------+----------+----------+----------+----------+----------+----------+----------+----------+----------+----------+-----------+-----------+-----------+-----------+-----------+-----------+-----------+-----------+-----------+-----------+-----------+-----------+-----------+-----------+-----------+-----------+-----------+------------+------------+------------+------------+------------+------------+------------+------------+-----------+-----------+-----------+-----------+-----------+-----------+-----------+-----------+-----------+------------+------------+------------+------------+------------+------------+------------+------------+\n",
      "|   8.38|          0|       104|      30.0|   2.37223|   8.60074|   3.51048|   2.43954|   8.76165|   3.35465|-0.0922174| 0.0568115| -0.0158445|    14.6806|   -69.2128|   -5.58905|        1.0|        0.0|        0.0|        0.0|    31.8125|    0.23808|    9.80003|   -1.68896|   0.265304|    9.81549|   -1.41344|-0.00506495|-0.00678097| -0.00566295|     0.47196|    -51.0499|     43.2903|         1.0|         0.0|         0.0|         0.0|    30.3125|    9.65918|   -1.65569| -0.0997967|    9.64689|   -1.55576|   0.310404| 0.00830026| 0.00925038|  -0.0175803|    -61.1888|    -38.9599|    -58.1438|         1.0|         0.0|         0.0|         0.0|\n",
      "+-------+-----------+----------+----------+----------+----------+----------+----------+----------+----------+----------+----------+-----------+-----------+-----------+-----------+-----------+-----------+-----------+-----------+-----------+-----------+-----------+-----------+-----------+-----------+-----------+-----------+-----------+------------+------------+------------+------------+------------+------------+------------+------------+-----------+-----------+-----------+-----------+-----------+-----------+-----------+-----------+-----------+------------+------------+------------+------------+------------+------------+------------+------------+\n",
      "\n"
     ]
    }
   ],
   "source": [
    "spark.sql(\"select * from g10.raw_data_textfile limit 1\").show()"
   ]
  },
  {
   "cell_type": "code",
   "execution_count": 11,
   "metadata": {},
   "outputs": [
    {
     "name": "stdout",
     "output_type": "stream",
     "text": [
      "+-------+-----------+----------+------------+-------------+-------------+\n",
      "|instant|id_activity|heart_rate|Sum_IMU_Hand|Sum_IMU_Chest|Sum_IMU_Ankle|\n",
      "+-------+-----------+----------+------------+-------------+-------------+\n",
      "|1777.06|         13|       129|   87.451584|    40.021736|    27.250303|\n",
      "+-------+-----------+----------+------------+-------------+-------------+\n",
      "\n"
     ]
    }
   ],
   "source": [
    "raw_data = spark.sql(\"SELECT instant, id_activity, heart_rate, (imu_hand_1+imu_hand_2+imu_hand_3+imu_hand_4+imu_hand_5+imu_hand_6+imu_hand_7+imu_hand_8+imu_hand_9+imu_hand_10+imu_hand_11+imu_hand_12+imu_hand_13+imu_hand_14+ imu_hand_15+ imu_hand_16+ imu_hand_17) as Sum_IMU_Hand, (imu_chest_1+imu_chest_2+imu_chest_3+imu_chest_4+imu_chest_5+imu_chest_6+imu_chest_7+imu_chest_8+imu_chest_9+imu_chest_10+imu_chest_11+imu_chest_12+imu_chest_13+imu_chest_14+ imu_chest_15+ imu_chest_16+ imu_chest_17) as Sum_IMU_Chest, (imu_ankle_1+imu_ankle_2+imu_ankle_3+imu_ankle_4+imu_ankle_5+imu_ankle_6+imu_ankle_7+imu_ankle_8+imu_ankle_9+imu_ankle_10+imu_ankle_11+imu_ankle_12+imu_ankle_13+imu_ankle_14+ imu_ankle_15+ imu_ankle_16+ imu_ankle_17) as Sum_IMU_Ankle FROM g10.raw_data_textfile\")\n",
    "raw_data.write.format(\"orc\").saveAsTable(\"g10.raw_data_inicial\")\n",
    "spark.sql(\"select * from g10.raw_data_inicial limit 1\").show()"
   ]
  },
  {
   "cell_type": "code",
   "execution_count": 13,
   "metadata": {},
   "outputs": [
    {
     "data": {
      "text/plain": [
       "DataFrame[]"
      ]
     },
     "execution_count": 13,
     "metadata": {},
     "output_type": "execute_result"
    }
   ],
   "source": [
    "spark.sql(\"DROP TABLE if exists g10.raw_data_textfile\")"
   ]
  },
  {
   "cell_type": "code",
   "execution_count": 14,
   "metadata": {},
   "outputs": [],
   "source": [
    "dataset_final = spark.sql(\"SELECT id_activity, avg(heart_rate) over(order by instant rows between 4 preceding and current row) avg_values_heart_rate, min(heart_rate) over(order by instant rows between 4 preceding and current row) min_values_heart_rate, max(heart_rate) over(order by instant rows between 4 preceding and current row) max_values_heart_rate,std(heart_rate) over(order by instant rows between 4 preceding and current row) std_values_heart_rate,avg(Sum_IMU_Hand) over(order by instant rows between 4 preceding and current row) avg_values_imu_hand, min(Sum_IMU_Hand) over(order by instant rows between 4 preceding and current row) min_values_imu_hand, max(Sum_IMU_Hand) over(order by instant rows between 4 preceding and current row) max_values_imu_hand,std(Sum_IMU_Hand) over(order by instant rows between 4 preceding and current row) std_values_imu_hand,avg(Sum_IMU_Chest) over(order by instant rows between 4 preceding and current row) avg_values_imu_chest, min(Sum_IMU_Chest) over(order by instant rows between 4 preceding and current row) min_values_imu_chest, max(Sum_IMU_Chest) over(order by instant rows between 4 preceding and current row) max_values_imu_chest,std(Sum_IMU_Chest) over(order by instant rows between 4 preceding and current row) std_values_imu_chest,avg(Sum_IMU_Ankle) over(order by instant rows between 4 preceding and current row) avg_values_imu_ankle, min(Sum_IMU_Ankle) over(order by instant rows between 4 preceding and current row) min_values_imu_ankle, max(Sum_IMU_Ankle) over(order by instant rows between 4 preceding and current row) max_values_imu_ankle,std(Sum_IMU_Ankle) over(order by instant rows between 4 preceding and current row) std_values_imu_ankle FROM g10.raw_data_inicial GROUP BY instant, id_activity, heart_rate, Sum_IMU_Ankle,Sum_IMU_Chest, Sum_IMU_Hand\")"
   ]
  },
  {
   "cell_type": "code",
   "execution_count": 15,
   "metadata": {},
   "outputs": [],
   "source": [
    "label_activity = {1: 'lying', 2: 'sitting', 3: 'standing', 4: 'walking', 5: 'running', 6: 'cycling', 7: 'Nordic walking', 9: 'watching TV', 10: 'computer work', 11: 'car driving', 12: 'ascending stairs', 13: 'descending stairs', 16: 'vacuum cleaning', 17: 'ironing', 18: 'folding laundry', 19: 'house cleaning', 20: 'playing soccer', 24: 'rope jumping', 0: 'other'}\n",
    "\n",
    "schema = StructType([\n",
    "    StructField(\"activity\", StringType(), True), StructField(\"avg_values_heart_rate\", FloatType(), True),\n",
    "    StructField(\"min_values_heart_rate\", IntegerType(), True), StructField(\"max_values_heart_rate\", IntegerType(), True), \n",
    "    StructField(\"std_values_heart_rate\", FloatType(), True), StructField(\"avg_values_imu_hand\", FloatType(), True),\n",
    "    StructField(\"min_values_imu_hand\", FloatType(), True), StructField(\"max_values_imu_hand\", FloatType(), True),\n",
    "    StructField(\"std_values_imu_hand\", FloatType(), True), StructField(\"avg_values_imu_chest\", FloatType(), True),\n",
    "    StructField(\"min_values_imu_chest\", FloatType(), True), StructField(\"max_values_imu_chest\", FloatType(), True),\n",
    "    StructField(\"std_values_imu_chest\", FloatType(), True), StructField(\"avg_values_imu_ankle\", FloatType(), True),\n",
    "    StructField(\"min_values_imu_ankle\", FloatType(), True), StructField(\"max_values_imu_ankle\", FloatType(), True),\n",
    "    StructField(\"std_values_imu_ankle\", FloatType(), True)\n",
    "])"
   ]
  },
  {
   "cell_type": "code",
   "execution_count": 16,
   "metadata": {},
   "outputs": [
    {
     "name": "stdout",
     "output_type": "stream",
     "text": [
      "+--------+---------------------+---------------------+---------------------+---------------------+-------------------+-------------------+-------------------+-------------------+--------------------+--------------------+--------------------+--------------------+--------------------+--------------------+--------------------+--------------------+\n",
      "|activity|avg_values_heart_rate|min_values_heart_rate|max_values_heart_rate|std_values_heart_rate|avg_values_imu_hand|min_values_imu_hand|max_values_imu_hand|std_values_imu_hand|avg_values_imu_chest|min_values_imu_chest|max_values_imu_chest|std_values_imu_chest|avg_values_imu_ankle|min_values_imu_ankle|max_values_imu_ankle|std_values_imu_ankle|\n",
      "+--------+---------------------+---------------------+---------------------+---------------------+-------------------+-------------------+-------------------+-------------------+--------------------+--------------------+--------------------+--------------------+--------------------+--------------------+--------------------+--------------------+\n",
      "|   other|                104.0|                  104|                  104|                 null|        -0.13320875|        -0.13320875|        -0.13320875|               null|           42.523846|           42.523846|           42.523846|                null|         -110.674805|         -110.674805|         -110.674805|                null|\n",
      "+--------+---------------------+---------------------+---------------------+---------------------+-------------------+-------------------+-------------------+-------------------+--------------------+--------------------+--------------------+--------------------+--------------------+--------------------+--------------------+--------------------+\n",
      "\n"
     ]
    }
   ],
   "source": [
    "df2 = dataset_final.rdd.map(lambda row: (label_activity[row.id_activity], row.avg_values_heart_rate, row.min_values_heart_rate, row.max_values_heart_rate, row.std_values_heart_rate, row.avg_values_imu_hand, row.min_values_imu_hand, row.max_values_imu_hand, row.std_values_imu_hand, row.avg_values_imu_chest, row.min_values_imu_chest, row.max_values_imu_chest, row.std_values_imu_chest, row.avg_values_imu_ankle, row.min_values_imu_ankle, row.max_values_imu_ankle, row.std_values_imu_ankle)).toDF(schema=schema)\n",
    "df2.limit(1).show()\n",
    "df2.createOrReplaceTempView(\"dataset\")"
   ]
  },
  {
   "cell_type": "code",
   "execution_count": 17,
   "metadata": {},
   "outputs": [
    {
     "data": {
      "text/plain": [
       "DataFrame[]"
      ]
     },
     "execution_count": 17,
     "metadata": {},
     "output_type": "execute_result"
    }
   ],
   "source": [
    "spark.sql(\"CREATE TABLE IF NOT EXISTS g10.dataset_final STORED AS ORC as SELECT * FROM dataset\")"
   ]
  },
  {
   "cell_type": "code",
   "execution_count": 18,
   "metadata": {},
   "outputs": [],
   "source": [
    "spark.stop()"
   ]
  }
 ],
 "metadata": {
  "kernelspec": {
   "display_name": "Python 3.6.8 64-bit",
   "language": "python",
   "name": "python3"
  },
  "language_info": {
   "codemirror_mode": {
    "name": "ipython",
    "version": 3
   },
   "file_extension": ".py",
   "mimetype": "text/x-python",
   "name": "python",
   "nbconvert_exporter": "python",
   "pygments_lexer": "ipython3",
   "version": "3.6.8"
  },
  "orig_nbformat": 4,
  "vscode": {
   "interpreter": {
    "hash": "916dbcbb3f70747c44a77c7bcd40155683ae19c65e1c03b4aa3499c5328201f1"
   }
  }
 },
 "nbformat": 4,
 "nbformat_minor": 2
}
